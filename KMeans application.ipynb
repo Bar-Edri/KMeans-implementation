{
 "cells": [
  {
   "cell_type": "code",
   "execution_count": 162,
   "id": "b5e11552",
   "metadata": {},
   "outputs": [],
   "source": [
    "import pandas as pd\n",
    "import numpy as np\n",
    "import os \n",
    "import matplotlib.pyplot as plt\n",
    "import random\n",
    "import math"
   ]
  },
  {
   "cell_type": "code",
   "execution_count": 163,
   "id": "4b40df2d",
   "metadata": {},
   "outputs": [],
   "source": [
    "num_samples=200 ## amount of samples\n",
    "num_centroids=3 ## amount of clusters to choose\n",
    "## run all after choosing"
   ]
  },
  {
   "cell_type": "code",
   "execution_count": 164,
   "id": "5fb81118",
   "metadata": {},
   "outputs": [],
   "source": [
    "random_centroids=[]\n",
    "random_centroids.append(np.random.randint(0,100,(num_samples,2))) ## the array of random points X,Y"
   ]
  },
  {
   "cell_type": "code",
   "execution_count": 165,
   "id": "4d22f934",
   "metadata": {},
   "outputs": [],
   "source": [
    "df=pd.DataFrame(random_centroids[0],columns=[\"X\",\"Y\"])"
   ]
  },
  {
   "cell_type": "code",
   "execution_count": 166,
   "id": "f46b8dcd",
   "metadata": {},
   "outputs": [
    {
     "data": {
      "text/html": [
       "<div>\n",
       "<style scoped>\n",
       "    .dataframe tbody tr th:only-of-type {\n",
       "        vertical-align: middle;\n",
       "    }\n",
       "\n",
       "    .dataframe tbody tr th {\n",
       "        vertical-align: top;\n",
       "    }\n",
       "\n",
       "    .dataframe thead th {\n",
       "        text-align: right;\n",
       "    }\n",
       "</style>\n",
       "<table border=\"1\" class=\"dataframe\">\n",
       "  <thead>\n",
       "    <tr style=\"text-align: right;\">\n",
       "      <th></th>\n",
       "      <th>X</th>\n",
       "      <th>Y</th>\n",
       "    </tr>\n",
       "  </thead>\n",
       "  <tbody>\n",
       "    <tr>\n",
       "      <th>0</th>\n",
       "      <td>69</td>\n",
       "      <td>9</td>\n",
       "    </tr>\n",
       "    <tr>\n",
       "      <th>1</th>\n",
       "      <td>77</td>\n",
       "      <td>54</td>\n",
       "    </tr>\n",
       "    <tr>\n",
       "      <th>2</th>\n",
       "      <td>44</td>\n",
       "      <td>14</td>\n",
       "    </tr>\n",
       "    <tr>\n",
       "      <th>3</th>\n",
       "      <td>31</td>\n",
       "      <td>86</td>\n",
       "    </tr>\n",
       "    <tr>\n",
       "      <th>4</th>\n",
       "      <td>39</td>\n",
       "      <td>57</td>\n",
       "    </tr>\n",
       "    <tr>\n",
       "      <th>...</th>\n",
       "      <td>...</td>\n",
       "      <td>...</td>\n",
       "    </tr>\n",
       "    <tr>\n",
       "      <th>195</th>\n",
       "      <td>68</td>\n",
       "      <td>78</td>\n",
       "    </tr>\n",
       "    <tr>\n",
       "      <th>196</th>\n",
       "      <td>23</td>\n",
       "      <td>86</td>\n",
       "    </tr>\n",
       "    <tr>\n",
       "      <th>197</th>\n",
       "      <td>75</td>\n",
       "      <td>51</td>\n",
       "    </tr>\n",
       "    <tr>\n",
       "      <th>198</th>\n",
       "      <td>57</td>\n",
       "      <td>3</td>\n",
       "    </tr>\n",
       "    <tr>\n",
       "      <th>199</th>\n",
       "      <td>94</td>\n",
       "      <td>13</td>\n",
       "    </tr>\n",
       "  </tbody>\n",
       "</table>\n",
       "<p>200 rows × 2 columns</p>\n",
       "</div>"
      ],
      "text/plain": [
       "      X   Y\n",
       "0    69   9\n",
       "1    77  54\n",
       "2    44  14\n",
       "3    31  86\n",
       "4    39  57\n",
       "..   ..  ..\n",
       "195  68  78\n",
       "196  23  86\n",
       "197  75  51\n",
       "198  57   3\n",
       "199  94  13\n",
       "\n",
       "[200 rows x 2 columns]"
      ]
     },
     "metadata": {},
     "output_type": "display_data"
    }
   ],
   "source": [
    "display(df)"
   ]
  },
  {
   "cell_type": "code",
   "execution_count": 167,
   "id": "6ab17d94",
   "metadata": {},
   "outputs": [
    {
     "data": {
      "text/plain": [
       "<matplotlib.collections.PathCollection at 0x21d67ce2640>"
      ]
     },
     "execution_count": 167,
     "metadata": {},
     "output_type": "execute_result"
    },
    {
     "data": {
      "image/png": "[encoded data removed]",
      "text/plain": [
       "<Figure size 432x288 with 1 Axes>"
      ]
     },
     "metadata": {
      "needs_background": "light"
     },
     "output_type": "display_data"
    }
   ],
   "source": [
    "plt.scatter(x=df['X'],y=df['Y'])"
   ]
  },
  {
   "cell_type": "code",
   "execution_count": 168,
   "id": "85b0ad79",
   "metadata": {},
   "outputs": [],
   "source": [
    "def fit_transform_by_std(df):\n",
    "    std=pd.DataFrame(index=df.columns,columns=[\"std\",\"mean\"])\n",
    "    for i in df.columns:\n",
    "        std['std'][i]=math.sqrt(sum((df[i]-df[i].mean())*(df[i]-df[i].mean()))/len(df[i]))\n",
    "        std['mean'][i]=df[i].mean()\n",
    "    for i in df.columns:\n",
    "        df[i]=(df[i]-std['mean'][i])/std['std'][i]\n",
    "    return df"
   ]
  },
  {
   "cell_type": "code",
   "execution_count": 169,
   "id": "647b5d3c",
   "metadata": {},
   "outputs": [
    {
     "data": {
      "text/plain": [
       "<matplotlib.collections.PathCollection at 0x21d67357df0>"
      ]
     },
     "execution_count": 169,
     "metadata": {},
     "output_type": "execute_result"
    },
    {
     "data": {
      "image/png": "[encoded data removed]",
      "text/plain": [
       "<Figure size 432x288 with 1 Axes>"
      ]
     },
     "metadata": {
      "needs_background": "light"
     },
     "output_type": "display_data"
    }
   ],
   "source": [
    "plt.scatter(x=df['X'],y=df['Y'])"
   ]
  },
  {
   "cell_type": "code",
   "execution_count": 170,
   "id": "c8916c28",
   "metadata": {},
   "outputs": [],
   "source": [
    "def check_distance(df,centroid_df):\n",
    "    distance_calc=pd.DataFrame(columns=centroid_df.index,index=df.index)\n",
    "    for col in distance_calc.columns:\n",
    "        distance_calc[col].values[:] = 0\n",
    "    distance=0\n",
    "    for index_1 in df.index:\n",
    "        for index in centroid_df.index:\n",
    "            distance=0\n",
    "            for col in centroid_df.columns:\n",
    "                distance+=pow(df[col][index_1]-centroid_df[col][index],2)\n",
    "                distance_calc[index][index_1]=math.sqrt(distance)## checking distance using euclidian formula\n",
    "    list1=[]\n",
    "    i=0\n",
    "    for index in distance_calc.index:\n",
    "        for col in distance_calc.columns:\n",
    "            minimum=min(distance_calc.iloc[index])\n",
    "            if distance_calc[col][index]==minimum:\n",
    "                if(len(list1)==index):\n",
    "                    list1.append(col)\n",
    "    df['center']=list1\n",
    "    list1=[]\n",
    "    return df"
   ]
  },
  {
   "cell_type": "code",
   "execution_count": 171,
   "id": "3f8c6246",
   "metadata": {},
   "outputs": [],
   "source": [
    "def average_clusters(df,centroid_df):\n",
    "    new_centr=pd.DataFrame(columns=centroid_df.columns,index=centroid_df.index)\n",
    "    for col in new_centr.columns:\n",
    "        for center in new_centr.index:\n",
    "            new_centr[col][center]=df[df['center']==center][col].mean()\n",
    "    return new_centr"
   ]
  },
  {
   "cell_type": "code",
   "execution_count": 172,
   "id": "fb6675c0",
   "metadata": {},
   "outputs": [],
   "source": [
    "def kmeans(X, num_clusters, num_iterations):\n",
    "    random_centroids=[]\n",
    "    random_centroids.append(np.random.randint(0,100,(num_clusters,2)))\n",
    "    list2=[]\n",
    "    for i in range(0,num_centroids):\n",
    "        list2.append('Centr'+np.str(i))\n",
    "    centroid_df=pd.DataFrame(index=list2,data=random_centroids[0],columns=['X','Y'])  \n",
    "    \n",
    "    ## fitting by STD, optional\n",
    "    X=fit_transform_by_std(X)\n",
    "    centroid_df=fit_transform_by_std(centroid_df)\n",
    "    \n",
    "    \n",
    "    for k in range(num_iterations):\n",
    "        df=check_distance(X,centroid_df)\n",
    "        centroid_df=average_clusters(X,centroid_df)\n",
    "    return X,centroid_df"
   ]
  },
  {
   "cell_type": "code",
   "execution_count": 173,
   "id": "8ed826c0",
   "metadata": {},
   "outputs": [],
   "source": [
    "df,centroids=kmeans(df,num_centroids,10)"
   ]
  },
  {
   "cell_type": "code",
   "execution_count": 174,
   "id": "d86d85ee",
   "metadata": {},
   "outputs": [
    {
     "data": {
      "text/html": [
       "<div>\n",
       "<style scoped>\n",
       "    .dataframe tbody tr th:only-of-type {\n",
       "        vertical-align: middle;\n",
       "    }\n",
       "\n",
       "    .dataframe tbody tr th {\n",
       "        vertical-align: top;\n",
       "    }\n",
       "\n",
       "    .dataframe thead th {\n",
       "        text-align: right;\n",
       "    }\n",
       "</style>\n",
       "<table border=\"1\" class=\"dataframe\">\n",
       "  <thead>\n",
       "    <tr style=\"text-align: right;\">\n",
       "      <th></th>\n",
       "      <th>X</th>\n",
       "      <th>Y</th>\n",
       "      <th>center</th>\n",
       "    </tr>\n",
       "  </thead>\n",
       "  <tbody>\n",
       "    <tr>\n",
       "      <th>0</th>\n",
       "      <td>0.764675</td>\n",
       "      <td>-1.312176</td>\n",
       "      <td>Centr1</td>\n",
       "    </tr>\n",
       "    <tr>\n",
       "      <th>1</th>\n",
       "      <td>1.043436</td>\n",
       "      <td>0.175177</td>\n",
       "      <td>Centr1</td>\n",
       "    </tr>\n",
       "    <tr>\n",
       "      <th>2</th>\n",
       "      <td>-0.106452</td>\n",
       "      <td>-1.146915</td>\n",
       "      <td>Centr1</td>\n",
       "    </tr>\n",
       "    <tr>\n",
       "      <th>3</th>\n",
       "      <td>-0.559438</td>\n",
       "      <td>1.232851</td>\n",
       "      <td>Centr0</td>\n",
       "    </tr>\n",
       "    <tr>\n",
       "      <th>4</th>\n",
       "      <td>-0.280677</td>\n",
       "      <td>0.274334</td>\n",
       "      <td>Centr0</td>\n",
       "    </tr>\n",
       "    <tr>\n",
       "      <th>...</th>\n",
       "      <td>...</td>\n",
       "      <td>...</td>\n",
       "      <td>...</td>\n",
       "    </tr>\n",
       "    <tr>\n",
       "      <th>195</th>\n",
       "      <td>0.729830</td>\n",
       "      <td>0.968432</td>\n",
       "      <td>Centr0</td>\n",
       "    </tr>\n",
       "    <tr>\n",
       "      <th>196</th>\n",
       "      <td>-0.838198</td>\n",
       "      <td>1.232851</td>\n",
       "      <td>Centr0</td>\n",
       "    </tr>\n",
       "    <tr>\n",
       "      <th>197</th>\n",
       "      <td>0.973745</td>\n",
       "      <td>0.076020</td>\n",
       "      <td>Centr1</td>\n",
       "    </tr>\n",
       "    <tr>\n",
       "      <th>198</th>\n",
       "      <td>0.346534</td>\n",
       "      <td>-1.510490</td>\n",
       "      <td>Centr1</td>\n",
       "    </tr>\n",
       "    <tr>\n",
       "      <th>199</th>\n",
       "      <td>1.635802</td>\n",
       "      <td>-1.179967</td>\n",
       "      <td>Centr1</td>\n",
       "    </tr>\n",
       "  </tbody>\n",
       "</table>\n",
       "<p>200 rows × 3 columns</p>\n",
       "</div>"
      ],
      "text/plain": [
       "            X         Y  center\n",
       "0    0.764675 -1.312176  Centr1\n",
       "1    1.043436  0.175177  Centr1\n",
       "2   -0.106452 -1.146915  Centr1\n",
       "3   -0.559438  1.232851  Centr0\n",
       "4   -0.280677  0.274334  Centr0\n",
       "..        ...       ...     ...\n",
       "195  0.729830  0.968432  Centr0\n",
       "196 -0.838198  1.232851  Centr0\n",
       "197  0.973745  0.076020  Centr1\n",
       "198  0.346534 -1.510490  Centr1\n",
       "199  1.635802 -1.179967  Centr1\n",
       "\n",
       "[200 rows x 3 columns]"
      ]
     },
     "metadata": {},
     "output_type": "display_data"
    },
    {
     "data": {
      "text/html": [
       "<div>\n",
       "<style scoped>\n",
       "    .dataframe tbody tr th:only-of-type {\n",
       "        vertical-align: middle;\n",
       "    }\n",
       "\n",
       "    .dataframe tbody tr th {\n",
       "        vertical-align: top;\n",
       "    }\n",
       "\n",
       "    .dataframe thead th {\n",
       "        text-align: right;\n",
       "    }\n",
       "</style>\n",
       "<table border=\"1\" class=\"dataframe\">\n",
       "  <thead>\n",
       "    <tr style=\"text-align: right;\">\n",
       "      <th></th>\n",
       "      <th>X</th>\n",
       "      <th>Y</th>\n",
       "    </tr>\n",
       "  </thead>\n",
       "  <tbody>\n",
       "    <tr>\n",
       "      <th>Centr0</th>\n",
       "      <td>0.216969</td>\n",
       "      <td>1.039192</td>\n",
       "    </tr>\n",
       "    <tr>\n",
       "      <th>Centr1</th>\n",
       "      <td>0.821298</td>\n",
       "      <td>-0.739442</td>\n",
       "    </tr>\n",
       "    <tr>\n",
       "      <th>Centr2</th>\n",
       "      <td>-1.04566</td>\n",
       "      <td>-0.407052</td>\n",
       "    </tr>\n",
       "  </tbody>\n",
       "</table>\n",
       "</div>"
      ],
      "text/plain": [
       "               X         Y\n",
       "Centr0  0.216969  1.039192\n",
       "Centr1  0.821298 -0.739442\n",
       "Centr2  -1.04566 -0.407052"
      ]
     },
     "metadata": {},
     "output_type": "display_data"
    }
   ],
   "source": [
    "display(df,centroids)"
   ]
  },
  {
   "cell_type": "code",
   "execution_count": 175,
   "id": "805b8002",
   "metadata": {},
   "outputs": [
    {
     "data": {
      "image/png": "[encoded data removed]",
      "text/plain": [
       "<Figure size 432x288 with 1 Axes>"
      ]
     },
     "metadata": {
      "needs_background": "light"
     },
     "output_type": "display_data"
    }
   ],
   "source": [
    "plt.figure()\n",
    "for center in df['center'].value_counts().index:\n",
    "    plt.scatter(x=df[df['center']==center]['X'],y=df[df['center']==center]['Y'])\n",
    "    plt.scatter(x=centroids['X'][center],y=centroids['Y'][center],color='black',marker='+',s=300)\n",
    "plt.show()"
   ]
  }
 ],
 "metadata": {
  "kernelspec": {
   "display_name": "Python 3",
   "language": "python",
   "name": "python3"
  },
  "language_info": {
   "codemirror_mode": {
    "name": "ipython",
    "version": 3
   },
   "file_extension": ".py",
   "mimetype": "text/x-python",
   "name": "python",
   "nbconvert_exporter": "python",
   "pygments_lexer": "ipython3",
   "version": "3.8.3"
  }
 },
 "nbformat": 4,
 "nbformat_minor": 5
}
